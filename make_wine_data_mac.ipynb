{
 "cells": [
  {
   "cell_type": "code",
   "execution_count": null,
   "metadata": {},
   "outputs": [],
   "source": [
    "import numpy as np\n",
    "import pandas as pd\n",
    "import seaborn as sns\n",
    "import matplotlib.pyplot as plt"
   ]
  },
  {
   "cell_type": "markdown",
   "metadata": {},
   "source": [
    "pandasの読み込みと下のデータ保存の時に名前を変更する"
   ]
  },
  {
   "cell_type": "code",
   "execution_count": null,
   "metadata": {},
   "outputs": [],
   "source": [
    "white_wine=pd.read_csv(\"./winequality-red.csv\",sep=\";\")"
   ]
  },
  {
   "cell_type": "code",
   "execution_count": null,
   "metadata": {
    "scrolled": false
   },
   "outputs": [],
   "source": [
    "white_wine.head(20)"
   ]
  },
  {
   "cell_type": "code",
   "execution_count": null,
   "metadata": {},
   "outputs": [],
   "source": [
    "white_wine.corr(method='pearson')"
   ]
  },
  {
   "cell_type": "code",
   "execution_count": null,
   "metadata": {},
   "outputs": [],
   "source": [
    "##alcoholの散布図\n",
    "\n",
    "plt.hist(white_wine[\"alcohol\"])"
   ]
  },
  {
   "cell_type": "code",
   "execution_count": null,
   "metadata": {},
   "outputs": [],
   "source": [
    "plt.hist(white_wine[\"quality\"])"
   ]
  },
  {
   "cell_type": "code",
   "execution_count": null,
   "metadata": {},
   "outputs": [],
   "source": [
    "a=white_wine.groupby(\"quality\",as_index=False).size()\n",
    "print(a)"
   ]
  },
  {
   "cell_type": "code",
   "execution_count": null,
   "metadata": {},
   "outputs": [],
   "source": [
    "white_wine[\"quality\"].describe()"
   ]
  },
  {
   "cell_type": "code",
   "execution_count": null,
   "metadata": {},
   "outputs": [],
   "source": [
    "##alcoholの十の位の数字でクエリラベルをつける\n",
    "import math\n",
    "from sklearn.preprocessing import LabelEncoder\n",
    "from sklearn.model_selection import train_test_split\n",
    "\n",
    "class_le=LabelEncoder()\n",
    "\n",
    "def extract(x):\n",
    "    ##整数部分の抜き出し\n",
    "    alco=math.modf(x.alcohol)[1]\n",
    "    return alco\n",
    "                \n",
    "def main1():\n",
    "    white_wine[\"alcohol2\"]=white_wine.apply(lambda x: extract(x),axis=1)\n",
    "    return white_wine\n",
    "    \n",
    "def main2():\n",
    "    global white_wine\n",
    "    white_wine[\"quality\"]=white_wine[\"quality\"]/white_wine[\"quality\"].max()\n",
    "\n",
    "    ##alcohol2の削除とtrainとtestに分ける\n",
    "    white_wine.drop([\"alcohol2\"],axis=1,inplace=True)\n",
    "    train,test=train_test_split(white_wine,test_size=0.2)\n",
    "    x_train=train.drop([\"quality\"],axis=1)\n",
    "    x_test=test.drop([\"quality\"],axis=1)\n",
    "    y_train_first=train[[\"quality\"]]\n",
    "    y_test_first=test[[\"quality\"]]\n",
    "\n",
    "    print(x_train.head())\n",
    "    print(x_train.columns)\n",
    "    \n",
    "    ##データ加工したものをnumpy化して保存\n",
    "    np.save(\"./red_wine_x_train.npy\",np.array(x_train))\n",
    "    np.save(\"./red_wine_y_train.npy\",np.array(y_train_first))\n",
    "    np.save(\"./red_wine_x_test.npy\",np.array(x_test))\n",
    "    np.save(\"./red_wine_y_test.npy\",np.array(y_test_first))\n",
    "    \n",
    "    \n",
    "        \n",
    "if __name__==\"__main__\":\n",
    "    main1()\n",
    "    main2()"
   ]
  },
  {
   "cell_type": "code",
   "execution_count": null,
   "metadata": {},
   "outputs": [],
   "source": [
    "white_wine.head()"
   ]
  },
  {
   "cell_type": "code",
   "execution_count": null,
   "metadata": {},
   "outputs": [],
   "source": [
    "white_wine.shape"
   ]
  }
 ],
 "metadata": {
  "kernelspec": {
   "display_name": "Python 3",
   "language": "python",
   "name": "python3"
  },
  "language_info": {
   "codemirror_mode": {
    "name": "ipython",
    "version": 3
   },
   "file_extension": ".py",
   "mimetype": "text/x-python",
   "name": "python",
   "nbconvert_exporter": "python",
   "pygments_lexer": "ipython3",
   "version": "3.6.3"
  }
 },
 "nbformat": 4,
 "nbformat_minor": 2
}
