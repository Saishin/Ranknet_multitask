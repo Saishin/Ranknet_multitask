{
 "cells": [
  {
   "cell_type": "code",
   "execution_count": 4,
   "metadata": {},
   "outputs": [],
   "source": [
    "import numpy as np\n",
    "import pandas as pd\n",
    "import seaborn as sns\n",
    "import matplotlib.pyplot as plt"
   ]
  },
  {
   "cell_type": "markdown",
   "metadata": {},
   "source": [
    "pandasの読み込みと下のデータ保存の時に名前を変更する"
   ]
  },
  {
   "cell_type": "code",
   "execution_count": 5,
   "metadata": {},
   "outputs": [],
   "source": [
    "white_wine=pd.read_csv(\"./winequality-white.csv\",sep=\";\")\n",
    "red_wine=pd.read_csv(\"./winequality-red.csv\",sep=\";\")"
   ]
  },
  {
   "cell_type": "code",
   "execution_count": 7,
   "metadata": {},
   "outputs": [],
   "source": [
    "import math\n",
    "from sklearn.model_selection import train_test_split\n",
    "    \n",
    "def main1():\n",
    "    white_wine[\"quality\"]=white_wine[\"quality\"]/white_wine[\"quality\"].max()\n",
    "    red_wine[\"quality\"]=red_wine[\"quality\"]/red_wine[\"quality\"].max()\n",
    "\n",
    "    ##trainとtestに分ける\n",
    "    w_train,w_test=train_test_split(white_wine,test_size=0.2)\n",
    "    r_train,r_test=train_test_split(red_wine,test_size=0.2)\n",
    "    \n",
    "    ##white wine\n",
    "    x_w_train=w_train.drop([\"quality\"],axis=1)\n",
    "    x_w_test=w_test.drop([\"quality\"],axis=1)\n",
    "    y_w_train=w_train[[\"quality\"]]\n",
    "    y_w_test=w_test[[\"quality\"]]\n",
    "    \n",
    "    ##red wine\n",
    "    x_r_train=r_train.drop([\"quality\"],axis=1)\n",
    "    x_r_test=r_test.drop([\"quality\"],axis=1)\n",
    "    y_r_train=r_train[[\"quality\"]]\n",
    "    y_r_test=r_test[[\"quality\"]]\n",
    "    \n",
    "    ##データ加工したものをnumpy化して保存\n",
    "    np.save(\"./white_wine_x_train.npy\",np.array(x_w_train))\n",
    "    np.save(\"./white_wine_y_train.npy\",np.array(y_w_train))\n",
    "    np.save(\"./white_wine_x_test.npy\",np.array(x_w_test))\n",
    "    np.save(\"./white_wine_y_test.npy\",np.array(y_w_test))\n",
    "    \n",
    "    np.save(\"./red_wine_x_train.npy\",np.array(x_r_train))\n",
    "    np.save(\"./red_wine_y_train.npy\",np.array(y_r_train))\n",
    "    np.save(\"./red_wine_x_test.npy\",np.array(x_r_test))\n",
    "    np.save(\"./red_wine_y_test.npy\",np.array(y_r_test))\n",
    "    \n",
    "        \n",
    "if __name__==\"__main__\":\n",
    "    main1()\n"
   ]
  },
  {
   "cell_type": "code",
   "execution_count": null,
   "metadata": {},
   "outputs": [],
   "source": []
  }
 ],
 "metadata": {
  "kernelspec": {
   "display_name": "Python 3",
   "language": "python",
   "name": "python3"
  },
  "language_info": {
   "codemirror_mode": {
    "name": "ipython",
    "version": 3
   },
   "file_extension": ".py",
   "mimetype": "text/x-python",
   "name": "python",
   "nbconvert_exporter": "python",
   "pygments_lexer": "ipython3",
   "version": "3.6.8"
  }
 },
 "nbformat": 4,
 "nbformat_minor": 2
}
