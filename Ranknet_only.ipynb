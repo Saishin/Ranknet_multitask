{
 "cells": [
  {
   "cell_type": "code",
   "execution_count": null,
   "metadata": {
    "colab": {
     "base_uri": "https://localhost:8080/",
     "height": 51
    },
    "colab_type": "code",
    "executionInfo": {
     "elapsed": 5979,
     "status": "ok",
     "timestamp": 1537797153817,
     "user": {
      "displayName": "斉藤慎太郎",
      "photoUrl": "",
      "userId": "08781351261207481557"
     },
     "user_tz": -540
    },
    "id": "2qYecdHyhH9C",
    "outputId": "494e28ac-a90a-41aa-b5b8-5bc2245479bb"
   },
   "outputs": [],
   "source": [
    "import numpy as np\n",
    "import chainer\n",
    "\n",
    "from chainer import cuda,Function,report,training,utils,Variable\n",
    "from chainer import datasets,iterators,optimizers,serializers\n",
    "from chainer import Link,Chain,ChainList\n",
    "import chainer.functions as F\n",
    "import chainer.links as L\n",
    "from chainer.training import extensions\n",
    "import matplotlib.pyplot as plt\n",
    "\n",
    "%matplotlib inline"
   ]
  },
  {
   "cell_type": "code",
   "execution_count": null,
   "metadata": {
    "colab": {
     "base_uri": "https://localhost:8080/",
     "height": 51
    },
    "colab_type": "code",
    "executionInfo": {
     "elapsed": 481,
     "status": "ok",
     "timestamp": 1537797156082,
     "user": {
      "displayName": "斉藤慎太郎",
      "photoUrl": "",
      "userId": "08781351261207481557"
     },
     "user_tz": -540
    },
    "id": "Yjjj32j2geAm",
    "outputId": "9f36dc78-3f26-4d47-e93c-4867bff7e6cc"
   },
   "outputs": [],
   "source": [
    "##GPU環境の設定を確認\n",
    "print('GPU availability:', chainer.cuda.available)\n",
    "print('cuDNN availablility:', chainer.cuda.cudnn_enabled)"
   ]
  },
  {
   "cell_type": "code",
   "execution_count": null,
   "metadata": {
    "colab": {
     "base_uri": "https://localhost:8080/",
     "height": 34
    },
    "colab_type": "code",
    "executionInfo": {
     "elapsed": 1821,
     "status": "ok",
     "timestamp": 1537797240630,
     "user": {
      "displayName": "斉藤慎太郎",
      "photoUrl": "",
      "userId": "08781351261207481557"
     },
     "user_tz": -540
    },
    "id": "arbJYbBVknC9",
    "outputId": "c3c28445-c83e-49e8-ef40-c9762fc6934b"
   },
   "outputs": [],
   "source": [
    "ls"
   ]
  },
  {
   "cell_type": "code",
   "execution_count": null,
   "metadata": {},
   "outputs": [],
   "source": [
    "##train,testの読み込み\n",
    "x_train=np.load(\"./white_wine_x_train.npy\")\n",
    "y_train=np.load(\"./white_wine_y_train.npy\")\n",
    "\n",
    "x_test=np.load(\"./white_wine_x_test.npy\")\n",
    "y_test=np.load(\"./white_wine_y_test.npy\")\n",
    "\n",
    "##x_train,x_testを各特徴量ごとに標準化\n",
    "import scipy.stats\n",
    "x_train_zscore=scipy.stats.zscore(x_train)\n",
    "x_test_zscore=scipy.stats.zscore(x_test)"
   ]
  },
  {
   "cell_type": "code",
   "execution_count": null,
   "metadata": {
    "colab": {
     "base_uri": "https://localhost:8080/",
     "height": 34
    },
    "colab_type": "code",
    "executionInfo": {
     "elapsed": 565,
     "status": "ok",
     "timestamp": 1537797244484,
     "user": {
      "displayName": "斉藤慎太郎",
      "photoUrl": "",
      "userId": "08781351261207481557"
     },
     "user_tz": -540
    },
    "id": "H9ZfvJFaHEYg",
    "outputId": "842695df-65be-40f3-a567-365905eba4fd"
   },
   "outputs": [],
   "source": [
    "x_train_zscore.shape"
   ]
  },
  {
   "cell_type": "code",
   "execution_count": null,
   "metadata": {
    "colab": {},
    "colab_type": "code",
    "id": "ErmTzJykgeAu"
   },
   "outputs": [],
   "source": [
    "##trainとtestをcupy配列に変換\n",
    "\n",
    "import cupy as cp\n",
    "\n",
    "x_train = cp.asarray(x_train_zscore , dtype=cp.float32)\n",
    "y_train = cp.asarray(y_train, dtype=cp.float32)\n",
    "\n",
    "x_test = cp.asarray(x_test_zscore, dtype=cp.float32)\n",
    "y_test = cp.asarray(y_test, dtype=cp.float32)"
   ]
  },
  {
   "cell_type": "code",
   "execution_count": null,
   "metadata": {},
   "outputs": [],
   "source": [
    "###評価関数としてndcgの定義→これは順位含めての評価関数\n",
    "###予測結果のindexを降順で取得して、その並び順でy_trueを並び替えてndcgの計算をする\n",
    "\n",
    "def ndcg(y_true, y_score, k):\n",
    "    y_true = y_true.ravel()\n",
    "    y_score = y_score.ravel()\n",
    "    y_true_sorted = sorted(y_true, reverse=True)\n",
    "    ideal_dcg = 0\n",
    "    for i in range(k):\n",
    "        ideal_dcg += (2 ** y_true_sorted[i] - 1.) / cp.log2(i + 2)\n",
    "    dcg = 0\n",
    "    argsort_indices = cp.argsort(y_score)[::-1]\n",
    "    for i in range(k):\n",
    "        dcg += (2 ** y_true[argsort_indices[i]] - 1.) / cp.log2(i + 2)\n",
    "    ndcg = dcg / ideal_dcg\n",
    "    return ndcg\n",
    "    "
   ]
  },
  {
   "cell_type": "code",
   "execution_count": null,
   "metadata": {},
   "outputs": [],
   "source": [
    "import math\n",
    "\n",
    "class NN(Chain):\n",
    "    def __init__(self,n_in,n_hidden1,n_hidden2):\n",
    "        super(NN,self).__init__(\n",
    "        l1=L.Linear(n_in,n_hidden1),\n",
    "        l2=L.Linear(n_hidden1,n_hidden2),\n",
    "        ##first task only\n",
    "        l3=L.Linear(n_hidden2,1)\n",
    "            \n",
    "        )\n",
    "        \n",
    "    def __call__(self,x):\n",
    "        h1=F.tanh(self.l1(x))\n",
    "        h2=F.tanh(self.l2(h1))\n",
    "        \n",
    "        ##first task only\n",
    "        h3=F.tanh(self.l3(h2))\n",
    "        \n",
    "        return h3\n",
    "\n",
    "##loss   \n",
    "class Ranknet1(Chain):\n",
    "    def __init__(self,predictor):\n",
    "        super(Ranknet1,self).__init__(\n",
    "        predictor=predictor\n",
    "        )\n",
    "        \n",
    "    def __call__(self,x_i,x_j,t_i,t_j):\n",
    "        s_i=self.predictor(x_i)\n",
    "        s_j=self.predictor(x_j)\n",
    "        diff=s_i-s_j\n",
    "\n",
    "\n",
    "        if t_i.data > t_j.data:\n",
    "            S=1\n",
    "        if t_i.data < t_j.data:\n",
    "            S=0\n",
    "        if t_i.data == t_j.data:\n",
    "            S=0.5\n",
    "            \n",
    "        ##sigmoidの傾きの設定\n",
    "        sigma=1.5\n",
    "        p_ij = 1/(1+F.exp(-sigma*(diff)))\n",
    "        self.loss = -S*F.log(p_ij)-(1-S)*F.log(1-p_ij)\n",
    "\n",
    "        return self.loss"
   ]
  },
  {
   "cell_type": "code",
   "execution_count": null,
   "metadata": {
    "colab": {
     "base_uri": "https://localhost:8080/",
     "height": 187
    },
    "colab_type": "code",
    "executionInfo": {
     "elapsed": 133426,
     "status": "ok",
     "timestamp": 1537798911043,
     "user": {
      "displayName": "斉藤慎太郎",
      "photoUrl": "",
      "userId": "08781351261207481557"
     },
     "user_tz": -540
    },
    "id": "CUvLr4HfgeAx",
    "outputId": "516bb105-e248-40de-e440-8135dae39886"
   },
   "outputs": [],
   "source": [
    "n_in = 11\n",
    "n_hidden1 = 9\n",
    "n_hidden2 = 7\n",
    "\n",
    "##ネットワーク作成\n",
    "\n",
    "model = Ranknet1(NN(n_in , n_hidden1,n_hidden2))\n",
    "\n",
    "##GPU設定\n",
    "\n",
    "uses_device = 0\n",
    "if uses_device >=0:\n",
    "    cuda.get_device(0).use()\n",
    "    model.to_gpu()\n",
    "\n",
    "    \n",
    "##誤差逆伝搬の設定\n",
    "optimizer = optimizers.Adam()\n",
    "optimizer.setup(model)\n",
    "\n",
    "##学習方法の記入\n",
    "n_iter = 100000\n",
    "loss_step = 5000\n",
    "\n",
    "train_score_accum = []\n",
    "test_score_accum = []\n",
    "\n",
    "\n",
    "for step in range(n_iter):\n",
    "        \n",
    "        train_length = x_train.shape[0]\n",
    "        i,j=cp.random.uniform(low=0.0, high=train_length, size=2, dtype=float)\n",
    "        i=int(i)\n",
    "        j=int(j)\n",
    "        x_i = Variable(x_train[i].reshape(1,-1))\n",
    "        x_j = Variable(x_train[j].reshape(1,-1))\n",
    "        y_i = Variable(y_train[i])\n",
    "        y_j = Variable(y_train[j])\n",
    "        \n",
    "        model.cleargrads()\n",
    "        loss = model(x_i, x_j, y_i, y_j)\n",
    "        loss.backward()\n",
    "        optimizer.update()\n",
    "    \n",
    "\n",
    "        if ((step +1) % loss_step ==0):\n",
    "            \n",
    "            ###ここでtrainとtestからランダムサンプリングしたクエリデータで\n",
    "            ###誤差を計算する\n",
    "            ###それをNDCGで評価する\n",
    "            \n",
    "            ##train,testのndcgのk\n",
    "            k=3\n",
    "            l=3\n",
    "            \n",
    "            ####ndcgの計算\n",
    "            train_score = model.predictor(Variable(x_train))\n",
    "            test_score = model.predictor(Variable(x_test))\n",
    "            \n",
    "            ###kとlで評価順位の最大値を設定\n",
    "            train_ndcg = ndcg(y_train , train_score.data , k)\n",
    "            test_ndcg = ndcg(y_test , test_score.data , l)\n",
    "            \n",
    "            train_score_accum.append(train_ndcg)\n",
    "            test_score_accum.append(test_ndcg)\n",
    "            \n",
    "            \n",
    "    ##エポックの終了回数を表示\n",
    "        if (step % 50000 == 0):\n",
    "            print (step, \"/\", n_iter,\" finished\")\n",
    "        if(step == n_iter):\n",
    "            outfile = \"ranknet-\" + str(step) + \".model\"\n",
    "\n",
    "latest= int(n_iter/loss_step)-1\n",
    "print('mean_train_ndcg@3: %f '% np.mean(train_score_accum))\n",
    "print('mean_test_ndcg@3: %f '% np.mean(test_score_accum))\n",
    "print('mean_test_last10_ndcg@3: %f ' % np.mean(test_score_accum[::-1][:10]))\n",
    "print('std_test_last10_ndcg@3: %f' % np.std(test_score_accum[::-1][:10]))\n",
    "print('latest_train_ndcg@3: %f '% train_score_accum[latest])\n",
    "print('latest_test_ndcg@3: %f '% test_score_accum[latest])\n",
    "\n",
    "\n",
    "plt.figure(figsize=(14,9))\n",
    "\n",
    "plt.plot(train_score_accum,label=\"Train\", linewidth=2)\n",
    "plt.plot(test_score_accum,label=\"Test\" ,linewidth=2)\n",
    "plt.title(\"sigma1.5_whitewine_epoch100000\")\n",
    "plt.xlabel('loss_step')\n",
    "plt.ylabel('ndcg@3')\n",
    "plt.ylim(0, 1.1)\n",
    "plt.legend(shadow=True, prop={'size' : 10})\n",
    "plt.savefig(\"Result_sigma1.5_only_whitewine.pdf\")\n",
    "plt.show()"
   ]
  },
  {
   "cell_type": "markdown",
   "metadata": {},
   "source": [
    "###sigma:1.5\n",
    "###white wine <br>\n",
    "mean_test_last10_ndcg@3: 0.834430<br>\n",
    "###red wine<br>\n",
    "mean_test_last10_ndcg@3:0.830437"
   ]
  }
 ],
 "metadata": {
  "accelerator": "GPU",
  "colab": {
   "collapsed_sections": [],
   "name": "Ranknet_keiba4.ipynb",
   "provenance": [],
   "version": "0.3.2"
  },
  "kernelspec": {
   "display_name": "Python 3",
   "language": "python",
   "name": "python3"
  },
  "language_info": {
   "codemirror_mode": {
    "name": "ipython",
    "version": 3
   },
   "file_extension": ".py",
   "mimetype": "text/x-python",
   "name": "python",
   "nbconvert_exporter": "python",
   "pygments_lexer": "ipython3",
   "version": "3.6.3"
  }
 },
 "nbformat": 4,
 "nbformat_minor": 1
}
